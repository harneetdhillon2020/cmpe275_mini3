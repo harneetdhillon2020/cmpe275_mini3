{
 "cells": [
  {
   "cell_type": "code",
   "execution_count": 15,
   "metadata": {},
   "outputs": [
    {
     "name": "stdout",
     "output_type": "stream",
     "text": [
      "Replication Desirability Scores (RDS):\n",
      "Node 1001 RDS: 3.1\n",
      "Node 1002 RDS: 2.364\n",
      "Node 1003 RDS: 3.075\n",
      "Node 1004 RDS: 4.3\n",
      "Node 1005 RDS: 2.467\n",
      "Node 1006 RDS: 17.0\n"
     ]
    }
   ],
   "source": [
    "def compute_rank(current_enqueued_message, capacity, max_queue=10):\n",
    "    queue_weight = 1.5\n",
    "    capacity_weight = 2.0\n",
    "\n",
    "    queue_ratio = max_queue / (current_enqueued_message + 1)\n",
    "    RDS = queue_weight * queue_ratio + capacity_weight * capacity\n",
    "\n",
    "    return round(RDS, 3)\n",
    "\n",
    "nodes = [\n",
    "    {'pid': 1001, 'current_enqueued_message': 9, 'capacity': 0.8},\n",
    "    {'pid': 1002, 'current_enqueued_message': 10, 'capacity': 0.5},\n",
    "    {'pid': 1003, 'current_enqueued_message': 7, 'capacity': 0.6},\n",
    "    {'pid': 1004, 'current_enqueued_message': 5, 'capacity': 0.9},\n",
    "    {'pid': 1005, 'current_enqueued_message': 8, 'capacity': 0.4},\n",
    "    {'pid': 1006, 'current_enqueued_message': 0, 'capacity': 1.0},\n",
    "]\n",
    "\n",
    "print(\"Replication Desirability Scores (RDS):\")\n",
    "for node in nodes:\n",
    "    rds = compute_rank(\n",
    "        current_enqueued_message=node['current_enqueued_message'],\n",
    "        capacity=node['capacity']\n",
    "    )\n",
    "    print(f\"Node {node['pid']} RDS: {rds}\")\n"
   ]
  },
  {
   "cell_type": "code",
   "execution_count": 9,
   "metadata": {},
   "outputs": [
    {
     "name": "stdout",
     "output_type": "stream",
     "text": [
      "['test.txt']\n"
     ]
    }
   ],
   "source": [
    "import os\n",
    "\n",
    "for dirpath, _, filenames in os.walk('/tmp/68547-50051'):\n",
    "    print(filenames)"
   ]
  }
 ],
 "metadata": {
  "kernelspec": {
   "display_name": "Python (.venv)",
   "language": "python",
   "name": ".venv"
  },
  "language_info": {
   "codemirror_mode": {
    "name": "ipython",
    "version": 3
   },
   "file_extension": ".py",
   "mimetype": "text/x-python",
   "name": "python",
   "nbconvert_exporter": "python",
   "pygments_lexer": "ipython3",
   "version": "3.13.2"
  }
 },
 "nbformat": 4,
 "nbformat_minor": 2
}
